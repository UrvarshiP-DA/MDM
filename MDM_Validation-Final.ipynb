{
 "cells": [
  {
   "cell_type": "code",
   "execution_count": 1,
   "id": "a9a51df7",
   "metadata": {},
   "outputs": [
    {
     "name": "stderr",
     "output_type": "stream",
     "text": [
      "[NbConvertApp] Converting notebook MDM_Validation-Final.ipynb to script\n",
      "[NbConvertApp] Writing 6954 bytes to MDM_Validation-Final.py\n"
     ]
    }
   ],
   "source": [
    "!jupyter nbconvert --to script MDM_Validation-Final.ipynb"
   ]
  },
  {
   "cell_type": "code",
   "execution_count": 2,
   "id": "be3fa715",
   "metadata": {},
   "outputs": [],
   "source": [
    "import os ,sys ,pandas as pd\n",
    "from pyspark.sql.functions import *\n",
    "from pyspark.sql import SparkSession\n",
    "from great_expectations.dataset import SparkDFDataset\n",
    "from pyspark.sql.types import StructType,StructField,IntegerType,StringType,DateType,TimestampType,BooleanType\n",
    "import json\n",
    "from pyspark.sql import SQLContext"
   ]
  },
  {
   "cell_type": "code",
   "execution_count": 3,
   "id": "daf02387",
   "metadata": {
    "scrolled": true
   },
   "outputs": [
    {
     "data": {
      "text/html": [
       "\n",
       "            <div>\n",
       "                <p><b>SparkSession - in-memory</b></p>\n",
       "                \n",
       "        <div>\n",
       "            <p><b>SparkContext</b></p>\n",
       "\n",
       "            <p><a href=\"http://DA00229.intra.infousa.com:4041\">Spark UI</a></p>\n",
       "\n",
       "            <dl>\n",
       "              <dt>Version</dt>\n",
       "                <dd><code>v3.3.0</code></dd>\n",
       "              <dt>Master</dt>\n",
       "                <dd><code>local[*]</code></dd>\n",
       "              <dt>AppName</dt>\n",
       "                <dd><code>MDM_Validation</code></dd>\n",
       "            </dl>\n",
       "        </div>\n",
       "        \n",
       "            </div>\n",
       "        "
      ],
      "text/plain": [
       "<pyspark.sql.session.SparkSession at 0x1c73d0d7970>"
      ]
     },
     "execution_count": 3,
     "metadata": {},
     "output_type": "execute_result"
    }
   ],
   "source": [
    "spark = SparkSession.builder.appName(\"MDM_Validation\").getOrCreate()\n",
    "spark"
   ]
  },
  {
   "cell_type": "markdown",
   "id": "3312215d",
   "metadata": {},
   "source": [
    "# Use Below Final Code"
   ]
  },
  {
   "cell_type": "code",
   "execution_count": 4,
   "id": "afa5ef6d",
   "metadata": {},
   "outputs": [
    {
     "name": "stdout",
     "output_type": "stream",
     "text": [
      "1_TL_CUST_TEST_20220908081003.txt count matches with actual file count :100000\n",
      "True\n",
      "inside file read\n",
      "before writing file\n"
     ]
    }
   ],
   "source": [
    "input_file_path=\"C:/Users/upande/OneDrive - infogroup/Urvashi/PythonScripts/\"\n",
    "output_file_path=\"C:/Users/upande/OneDrive - infogroup/Urvashi/PythonScripts/\"\n",
    "start_file=input_file_path + \"/TL_STARTPROCESS_20220819114400.csv\"\n",
    "\n",
    "\n",
    "schema = StructType([ \\\n",
    "StructField('FIRST_NAME',StringType(),True), \\\n",
    "StructField('LAST_NAME',StringType(),True), \\\n",
    "StructField('MIDDLE_NAME',StringType(),True), \\\n",
    "StructField('NAME_PREFIX',StringType(),True), \\\n",
    "StructField('NAME_SUFFIX',StringType(),True), \\\n",
    "StructField('GENDER',StringType(),True), \\\n",
    "StructField('DOB',StringType(),True), \\\n",
    "StructField('ADDR_LINE_1',StringType(),True), \\\n",
    "StructField('ADDR_LINE_2',StringType(),True), \\\n",
    "StructField('CITY',StringType(),True), \\\n",
    "StructField('STATE',StringType(),True), \\\n",
    "StructField('ZIP',StringType(),True), \\\n",
    "StructField('ZIP4',StringType(),True), \\\n",
    "StructField('COUNTRY',StringType(),True), \\\n",
    "StructField('EMAIL',StringType(),True), \\\n",
    "StructField('HOME_PHONE',StringType(),True), \\\n",
    "StructField('WORK_PHONE',StringType(),True), \\\n",
    "StructField('MOBILE_PHONE',StringType(),True), \\\n",
    "StructField('COMPANY',StringType(),True), \\\n",
    "StructField('DIVISION',StringType(),True), \\\n",
    "StructField('SRC_CUST_NO',StringType(),True), \\\n",
    "StructField('MISC_01',StringType(),True), \\\n",
    "StructField('MISC_02',StringType(),True), \\\n",
    "StructField('MISC_03',StringType(),True), \\\n",
    "StructField('MISC_04',StringType(),True), \\\n",
    "StructField('MISC_05',StringType(),True), \\\n",
    "StructField('MISC_06',StringType(),True), \\\n",
    "StructField('MISC_07',StringType(),True), \\\n",
    "StructField('MISC_08',StringType(),True), \\\n",
    "StructField('MISC_09',StringType(),True), \\\n",
    "StructField('MISC_10',StringType(),True), \\\n",
    "StructField('MISC_11',StringType(),True), \\\n",
    "StructField('MISC_12',StringType(),True), \\\n",
    "StructField('MISC_13',StringType(),True), \\\n",
    "StructField('MISC_14',StringType(),True), \\\n",
    "StructField('MISC_15',StringType(),True), \\\n",
    "StructField('MISC_16',StringType(),True), \\\n",
    "StructField('MISC_17',StringType(),True), \\\n",
    "StructField('MISC_18',StringType(),True), \\\n",
    "StructField('MISC_19',StringType(),True), \\\n",
    "StructField('MISC_20',StringType(),True), \\\n",
    "StructField('CREATED_DATE',StringType(),True) \\\n",
    "#,StructField(\"_corrupt_record\",StringType(),True)\n",
    "])\n",
    "\n",
    "\n",
    "df=spark.read.csv(start_file,header=True)\n",
    "\n",
    "def read_file(file_name):\n",
    "    file_path=input_file_path+file_name\n",
    "    try:\n",
    "        df_file=spark.read.csv(file_path, header=True)\n",
    "        return df_file.count()\n",
    "    except Exception as e:\n",
    "        return e\n",
    "    \n",
    "arr=[]\n",
    "for file in df.collect()[:1]:\n",
    "    file_count=read_file(file['FILE_NAME'])\n",
    "    if type(file_count)==int:\n",
    "        if file_count==int(file['COUNT']):\n",
    "            arr.append('True')\n",
    "            print(file['FILE_NAME'] + \" count matches with actual file count :\" + str(file_count))\n",
    "        else:\n",
    "            arr.append('False')\n",
    "            print(file['FILE_NAME'] + \" count not  matches with actual file count :\" + str(file_count))\n",
    "    else:\n",
    "        print('ERROR:'+ file['FILE_NAME'] + \" not found\")\n",
    "        arr.append('False')\n",
    "print(arr[0])\n",
    "\n",
    "#Customer File Validation\n",
    "if arr[0]==\"True\":\n",
    "    print(\"inside file read\")\n",
    "    raw_df = (spark.read.format(\"csv\")\n",
    "    .option(\"header\",True)\n",
    "    .option(\"delimiter\",\"|\")\n",
    "    .load(input_file_path + \"/1_TL_CUST_TEST_20220908081003.txt\"))\n",
    "\n",
    "    with open(\"valid_layout.json\",\"r\") as valid:\n",
    "    #REading json file from boto3 client\n",
    "        #val=json.loads(valid)\n",
    "        val=json.loads(valid.read())\n",
    "        #print(val[\"Columns\"][0][\"Name\"])\n",
    "        for i in val.values():\n",
    "            for count,item in enumerate(i):\n",
    "                #print(j[\"Name\"],j.get(\"length\"))\n",
    "                \n",
    "                raw_df=raw_df.withColumn(raw_df.columns[count] + \"_LEN\",\n",
    "                                             when((length(raw_df.columns[count]) <= item.get(\"length\")) | (length(raw_df.columns[count]).isNull()),\"valid\")\n",
    "                                                      .otherwise(\"invalid_\" + raw_df.columns[count] + \"_length\" ))\n",
    "                                                  \n",
    "    ##DOB date format check            \n",
    "    raw_df_temp=raw_df.withColumn(\"DOB_val\",when(date_format(to_date(raw_df.DOB,\"yyyyMMdd\"),\"yyyyMMdd\").isNull(),\"invalid DOB\") \\\n",
    "                                  .otherwise(\"Valid\"))\n",
    "    \n",
    "    \n",
    "    ##Type conversion of date columns\n",
    "    raw_df_temp=raw_df_temp.withColumn(\"DOB\",date_format(to_date(raw_df.DOB,\"yyyyMMdd\"),\"yyyyMMdd\")).withColumn(\"CREATED_DATE\",date_format(to_date(raw_df.CREATED_DATE,\"d/M/yyyy\"),\"d/M/yyyy\"))\n",
    "\n",
    "    col = ['FIRST_NAME_LEN',  'LAST_NAME_LEN',  'MIDDLE_NAME_LEN',  'NAME_PREFIX_LEN',  'NAME_SUFFIX_LEN',  'GENDER_LEN',  'DOB_LEN',  'ADDR_LINE_1_LEN',  'ADDR_LINE_2_LEN',  'CITY_LEN',  'STATE_LEN',  'ZIP_LEN',  'ZIP4_LEN',  'COUNTRY_LEN',  'EMAIL_LEN',  'HOME_PHONE_LEN',  'WORK_PHONE_LEN',  'CELL_PHONE_LEN',  'COMPANY_LEN',  'DIVISION_LEN',  'SRC_CUST_NO_LEN',  'MISC_01_LEN',  'MISC_02_LEN',  'MISC_03_LEN',  'MISC_04_LEN',  'MISC_05_LEN',  'MISC_06_LEN',  'MISC_07_LEN',  'MISC_08_LEN',  'MISC_09_LEN',  'MISC_10_LEN',  'MISC_11_LEN',  'MISC_12_LEN',  'MISC_13_LEN',  'MISC_14_LEN',  'MISC_15_LEN',  'MISC_16_LEN',  'MISC_17_LEN',  'MISC_18_LEN',  'MISC_19_LEN',  'MISC_20_LEN',  'CREATED_DATE_LEN',\"DOB_val\"]\n",
    "\n",
    "\n",
    "    valid_df_combine=raw_df_temp.withColumn(\"combine\",concat_ws(\",\",*col))\n",
    "    \n",
    "    #Valid data processing \n",
    "    valid_df_final= valid_df_combine.filter(~valid_df_combine.combine.rlike(\"invalid\")).drop(*col,\"combine\")\n",
    "    \n",
    "    \n",
    "    #Reject Data Processing\n",
    "    #reject_df_final=valid_df_reject.drop(*col,\"_corrupt_record\").withColumnRenamed(\"combine\",\"rejectReason\").union(invalid_df_temp)\n",
    "    valid_df_reject= valid_df_combine.filter(valid_df_combine.combine.rlike(\"invalid\"))\n",
    "    reject_df_final=valid_df_reject.drop(*col,\"_corrupt_record\").withColumnRenamed(\"combine\",\"rejectReason\")\n",
    "\n",
    "\n",
    "    print(\"before writing file\")\n",
    "    # valid_df_final.write.format(\"csv\").mode(\"overwrite\").option(\"delimiter\",\"|\").option(\"header\",\"True\").save(\"s3://mdm-urvarshi-test/output/1_TL_CUSTOMER_20220801081003_valid.csv\")\n",
    "    # reject_df_final.write.format(\"csv\").mode(\"overwrite\").option(\"delimiter\",\"|\").option(\"header\",\"True\").save(\"s3://mdm-urvarshi-test/output/1_TL_CUSTOMER_20220801081003_reject.csv\")\n",
    "    \n",
    "    #Writing to S3 location\n",
    "#     valid_df_final.coalesce(1).write.format(\"csv\").mode(\"overwrite\").option(\"delimiter\",\"|\").option(\"header\",\"True\").save(output_file_path + \"1_TL_CUSTOMER_20220801081003_valid.csv\")\n",
    "#     reject_df_final.coalesce(1).write.format(\"csv\").mode(\"overwrite\").option(\"delimiter\",\"|\").option(\"header\",\"True\").save(output_file_path + \"1_TL_CUSTOMER_20220801081003_reject.csv\")\n",
    "    \n",
    "    \n",
    "    #writing to RDS PostGre Location\n",
    "#     valid_df_final.write \\\n",
    "#     .format(\"jdbc\") \\\n",
    "#     .option(\"url\", \"jdbc:postgresql://mdm-postgre-test.cfepodtnpdll.us-east-1.rds.amazonaws.com:5432/dev\") \\\n",
    "#     .option(\"driver\", \"org.postgresql.Driver\") \\\n",
    "#     .option(\"dbtable\", \"mzb_wvo_stg.valid_daily\") \\\n",
    "#     .mode(\"overwrite\") \\\n",
    "#     .option(\"user\", \"postgres\") \\\n",
    "#     .option(\"password\", \"nSyBhcdtf9SzQl1yrSbh\") \\\n",
    "#     .save() \n",
    "    \n",
    "    \n",
    "#     reject_df_final.write \\\n",
    "#     .format(\"jdbc\") \\\n",
    "#     .option(\"url\", \"jdbc:postgresql://mdm-postgre-test.cfepodtnpdll.us-east-1.rds.amazonaws.com:5432/dev\") \\\n",
    "#     .option(\"driver\", \"org.postgresql.Driver\") \\\n",
    "#     .option(\"dbtable\", \"mzb_wvo_stg.reject_daily\") \\\n",
    "#     .mode(\"overwrite\") \\\n",
    "#     .option(\"user\", \"postgres\") \\\n",
    "#     .option(\"password\", \"nSyBhcdtf9SzQl1yrSbh\") \\\n",
    "#     .save() "
   ]
  },
  {
   "cell_type": "code",
   "execution_count": 5,
   "id": "d1fe47ea",
   "metadata": {
    "collapsed": true
   },
   "outputs": [
    {
     "name": "stdout",
     "output_type": "stream",
     "text": [
      "+---------------+---------+-----------+-----------+-----------+------+--------+--------------------+-----------+------------+-----+-----+----+-------+--------------------+----------+----------+----------+-------+-----------+-----------+-------+-------+-------+-------+----------+-------+-------+-------+-------+-------+-------+-------+-------+-------+-------+-------+-------+-------+-------+-------+------------+\n",
      "|     FIRST_NAME|LAST_NAME|MIDDLE_NAME|NAME_PREFIX|NAME_SUFFIX|GENDER|     DOB|         ADDR_LINE_1|ADDR_LINE_2|        CITY|STATE|  ZIP|ZIP4|COUNTRY|               EMAIL|HOME_PHONE|WORK_PHONE|CELL_PHONE|COMPANY|   DIVISION|SRC_CUST_NO|MISC_01|MISC_02|MISC_03|MISC_04|   MISC_05|MISC_06|MISC_07|MISC_08|MISC_09|MISC_10|MISC_11|MISC_12|MISC_13|MISC_14|MISC_15|MISC_16|MISC_17|MISC_18|MISC_19|MISC_20|CREATED_DATE|\n",
      "+---------------+---------+-----------+-----------+-----------+------+--------+--------------------+-----------+------------+-----+-----+----+-------+--------------------+----------+----------+----------+-------+-----------+-----------+-------+-------+-------+-------+----------+-------+-------+-------+-------+-------+-------+-------+-------+-------+-------+-------+-------+-------+-------+-------+------------+\n",
      "|        ROSAURA| WORTHING|          A|       null|       null|     F|19740418|      119 Kinvara Ct|           |  Pittsburgh|   PA|15238|null|    USA|EBUNTIN3004@GMAIL...|3213374894|4074690910|3866446851|   null|10000000001|       null|   null|   null|   null|   null|8145592850|   null|   null|   null|   null|   null|   null|   null|   null|   null|   null|   null|   null|   null|   null|   null|    9/1/2022|\n",
      "|         YASUKO|   LASURE|          X|       null|       null|     F|19480820|       900 N 19th St|           | Baton Rouge|   LA|70802|null|    USA|   ZAB96@VERIZON.NET|3216878649|4076558384|3864586948|   null|10000000001|       null|   null|   null|   null|   null|8145592900|   null|   null|   null|   null|   null|   null|   null|   null|   null|   null|   null|   null|   null|   null|   null|    9/1/2022|\n",
      "|          BUNNY|    LATKO|          Y|       null|       null|     M|19590528|     800 Progress St|           | Baton Rouge|   LA|70802|null|    USA|      DEEDRI@MSN.COM|3217736807|4075444970|3867314969|   null|10000000001|       null|   null|   null|   null|   null|8145592970|   null|   null|   null|   null|   null|   null|   null|   null|   null|   null|   null|   null|   null|   null|   null|    9/1/2022|\n",
      "|          CAMIE|   LATOUF|          X|       null|       null|     F|19770202|   800 E Mckinley St|           | Baton Rouge|   LA|70802|null|    USA|  TRAVERS651@AOL.COM|3214272043|4075588492|3864943244|   null|10000000001|       null|   null|   null|   null|   null|8145592980|   null|   null|   null|   null|   null|   null|   null|   null|   null|   null|   null|   null|   null|   null|   null|    9/1/2022|\n",
      "|          CARLI|LATRONICA|          V|       null|       null|     F|19590913|       800 N 32nd St|           | Baton Rouge|   LA|70802|null|    USA|                null|3216033915|4073387791|3867297633|   null|10000000001|       null|   null|   null|   null|   null|8145593040|   null|   null|   null|   null|   null|   null|   null|   null|   null|   null|   null|   null|   null|   null|   null|    9/1/2022|\n",
      "|         CREOLA|   LATTIG|          U|       null|       null|     F|19320227|       800 N 19th St|           | Baton Rouge|   LA|70802|null|    USA|   PRICED691@AOL.COM|3214398411|4077343628|3865661709|   null|10000000001|       null|   null|   null|   null|   null|8145593050|   null|   null|   null|   null|   null|   null|   null|   null|   null|   null|   null|   null|   null|   null|   null|    9/1/2022|\n",
      "|       DOMINICA|   LATZKE|          A|       null|       null|     M|19400608|       800 S 15th St|           | Baton Rouge|   LA|70802|null|    USA|                null|3216162359|4076468406|3865366020|   null|10000000001|       null|   null|   null|   null|   null|8145593080|   null|   null|   null|   null|   null|   null|   null|   null|   null|   null|   null|   null|   null|   null|   null|    9/1/2022|\n",
      "|           SENA|   KNOTEN|          Y|       null|       null|     M|19890907|123 Nineteen Nort...|           |  Pittsburgh|   PA|15238|null|    USA|SHEPHERD1950@GMAI...|3216833245|4076480854|3863561679|   null|10000000001|       null|   null|   null|   null|   null|8145593110|   null|   null|   null|   null|   null|   null|   null|   null|   null|   null|   null|   null|   null|   null|   null|    9/1/2022|\n",
      "|        GREGORY| LAURENZA|          U|       null|       null|     M|19641216|     700 Lakeland Dr|           | Baton Rouge|   LA|70802|null|    USA|                null|3214388751|4074073435|3865867331|   null|10000000001|       null|   null|   null|   null|   null|8145593220|   null|   null|   null|   null|   null|   null|   null|   null|   null|   null|   null|   null|   null|   null|   null|    9/1/2022|\n",
      "|         Sheila|   Childs|          M|       null|       null|     F|19540429|16401 Golf Club R...|           |      Weston|   FL|33326|   0|    USA|    MARIEWS@LIVE.COM|3215255323|4077797592|3863839969|   null|10000000001|       null|   null|   null|   null|   null|8145593260|   null|   null|   null|   null|   null|   null|   null|   null|   null|   null|   null|   null|   null|   null|   null|    9/1/2022|\n",
      "|         JALISA|   LAUSEN|          Y|       null|       null|     F|19670810|       700 N 25th St|           | Baton Rouge|   LA|70802|null|    USA|                null|3215347239|4077286861|3865462426|   null|10000000001|       null|   null|   null|   null|   null|8145593310|   null|   null|   null|   null|   null|   null|   null|   null|   null|   null|   null|   null|   null|   null|   null|    9/1/2022|\n",
      "|          JONAH|    CROAK|          A|       null|       null|     F|19610415|         107 Jude Dr|           |  Pittsburgh|   PA|15238|null|    USA| MELINDAJ4@GMAIL.COM|3214327069|4076451266|3866737915|   null|10000000001|       null|   null|   null|   null|   null|8145593430|   null|   null|   null|   null|   null|   null|   null|   null|   null|   null|   null|   null|   null|   null|   null|    9/1/2022|\n",
      "|         MALCOM|     TSAO|          G|       null|       null|     M|19480221|    2000 Edgewood Dr|           |     Boulder|   CO|80304|null|    USA|   JLONGORIA@AOL.COM|3218451852|4073599553|3865972540|   null|10000000001|       null|   null|   null|   null|   null|8145593530|   null|   null|   null|   null|   null|   null|   null|   null|   null|   null|   null|   null|   null|   null|   null|    9/1/2022|\n",
      "|       JEANELLE|     LAUT|          V|       null|       null|     F|19390111|       700 N 23rd St|           | Baton Rouge|   LA|70802|null|    USA|                null|3217499205|4073362244|3864890352|   null|10000000001|       null|   null|   null|   null|   null|8145593560|   null|   null|   null|   null|   null|   null|   null|   null|   null|   null|   null|   null|   null|   null|   null|    9/1/2022|\n",
      "|          Debra|    Reyes|       null|       null|       null|     M|19890626|    7922 DUELING OAK|           | SAN ANTONIO|   TX|78254|   0|    USA|    DNAD71@GMAIL.COM|3214184967|4077447476|3866949083|   null|10000000001|       null|   null|   null|   null|   null|8145593620|   null|   null|   null|   null|   null|   null|   null|   null|   null|   null|   null|   null|   null|   null|   null|    9/1/2022|\n",
      "|          VICKI|KANESHIGE|       null|       null|       null|     F|19630326|     2584 RED OAK CT|           |ALLISON PARK|   PA|15101|2158|    USA|  NIZZIUMC@YAHOO.COM|3216066709|4077111761|3864991389|   null|10000000001|       null|   null|   null|   null|   null|8145593680|   null|   null|   null|   null|   null|   null|   null|   null|   null|   null|   null|   null|   null|   null|   null|    9/1/2022|\n",
      "|Richard & Kathy| Rudnicki|       null|       null|       null|     M|19780319|4976 EVERGLADES P...|           |     FREMONT|   CA|94538|3923|    Usa|BWASLIE@KOCHLOGIS...|3217775855|4077431175|3864681071|   null|10000000001|       null|   null|   null|   null|   null|8145593700|   null|   null|   null|   null|   null|   null|   null|   null|   null|   null|   null|   null|   null|   null|   null|    9/1/2022|\n",
      "|         KRISSY|    LAYEL|          X|       null|       null|     F|19700706|400 Eddie Robinso...|           | Baton Rouge|   LA|70802|null|    USA|                null|3215738588|4076741592|3867581312|   null|10000000001|       null|   null|   null|   null|   null|8145593720|   null|   null|   null|   null|   null|   null|   null|   null|   null|   null|   null|   null|   null|   null|   null|    9/1/2022|\n",
      "|        LANELLE|   LAYSON|          U|       null|       null|     M|19650119|      400 Connell St|           | Baton Rouge|   LA|70802|null|    USA|                null|3216398075|4075162909|3868008863|   null|10000000001|       null|   null|   null|   null|   null|8145593740|   null|   null|   null|   null|   null|   null|   null|   null|   null|   null|   null|   null|   null|   null|   null|    9/1/2022|\n",
      "|         LUETTA|    LEAMY|          Y|       null|       null|     M|19451224|100 Saint Ferdina...|           | Baton Rouge|   LA|70802|null|    USA|                null|3216280207|4074067584|3865457800|   null|10000000001|       null|   null|   null|   null|   null|8145593830|   null|   null|   null|   null|   null|   null|   null|   null|   null|   null|   null|   null|   null|   null|   null|    9/1/2022|\n",
      "+---------------+---------+-----------+-----------+-----------+------+--------+--------------------+-----------+------------+-----+-----+----+-------+--------------------+----------+----------+----------+-------+-----------+-----------+-------+-------+-------+-------+----------+-------+-------+-------+-------+-------+-------+-------+-------+-------+-------+-------+-------+-------+-------+-------+------------+\n",
      "only showing top 20 rows\n",
      "\n"
     ]
    }
   ],
   "source": [
    "valid_df_final.show()"
   ]
  }
 ],
 "metadata": {
  "kernelspec": {
   "display_name": "Python 3 (ipykernel)",
   "language": "python",
   "name": "python3"
  },
  "language_info": {
   "codemirror_mode": {
    "name": "ipython",
    "version": 3
   },
   "file_extension": ".py",
   "mimetype": "text/x-python",
   "name": "python",
   "nbconvert_exporter": "python",
   "pygments_lexer": "ipython3",
   "version": "3.9.12"
  }
 },
 "nbformat": 4,
 "nbformat_minor": 5
}
